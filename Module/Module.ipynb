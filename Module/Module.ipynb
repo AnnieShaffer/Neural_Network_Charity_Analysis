{
 "cells": [
  {
   "cell_type": "code",
   "execution_count": 1,
   "metadata": {},
   "outputs": [],
   "source": [
    "# Import our dependencies\n",
    "import pandas as pd\n",
    "import matplotlib as plt\n",
    "from sklearn.datasets import make_blobs\n",
    "import sklearn as skl\n",
    "import tensorflow as tf"
   ]
  },
  {
   "cell_type": "code",
   "execution_count": 2,
   "metadata": {},
   "outputs": [
    {
     "data": {
      "text/plain": [
       "<matplotlib.axes._subplots.AxesSubplot at 0x1ccd09aefc8>"
      ]
     },
     "execution_count": 2,
     "metadata": {},
     "output_type": "execute_result"
    },
    {
     "data": {
      "image/png": "[encoded data removed]",
      "text/plain": [
       "<Figure size 432x288 with 2 Axes>"
      ]
     },
     "metadata": {
      "needs_background": "light"
     },
     "output_type": "display_data"
    }
   ],
   "source": [
    "# Generate dummy dataset\n",
    "X, y = make_blobs(n_samples=1000, centers=2, n_features=2, random_state=78)\n",
    "\n",
    "# Creating a DataFrame with the dummy data\n",
    "df = pd.DataFrame(X, columns=[\"Feature 1\", \"Feature 2\"])\n",
    "df[\"Target\"] = y\n",
    "\n",
    "# Plotting the dummy data\n",
    "df.plot.scatter(x=\"Feature 1\", y=\"Feature 2\", c=\"Target\", colormap=\"winter\")"
   ]
  },
  {
   "cell_type": "code",
   "execution_count": 3,
   "metadata": {},
   "outputs": [],
   "source": [
    "# Use sklearn to split dataset\n",
    "from sklearn.model_selection import train_test_split\n",
    "X_train, X_test, y_train, y_test = train_test_split(X, y, random_state=78)"
   ]
  },
  {
   "cell_type": "code",
   "execution_count": 4,
   "metadata": {},
   "outputs": [],
   "source": [
    "# Create scaler instance\n",
    "X_scaler = skl.preprocessing.StandardScaler()\n",
    "\n",
    "# Fit the scaler\n",
    "X_scaler.fit(X_train)\n",
    "\n",
    "# Scale the data\n",
    "X_train_scaled = X_scaler.transform(X_train)\n",
    "X_test_scaled = X_scaler.transform(X_test)"
   ]
  },
  {
   "cell_type": "code",
   "execution_count": 5,
   "metadata": {},
   "outputs": [],
   "source": [
    "# Create the Keras Sequential model\n",
    "nn_model = tf.keras.models.Sequential()"
   ]
  },
  {
   "cell_type": "code",
   "execution_count": 6,
   "metadata": {},
   "outputs": [],
   "source": [
    "# Add our first Dense layer, including the input layer\n",
    "nn_model.add(tf.keras.layers.Dense(units=1, activation=\"relu\", input_dim=2))"
   ]
  },
  {
   "cell_type": "code",
   "execution_count": 7,
   "metadata": {},
   "outputs": [],
   "source": [
    "# Add the output layer that uses a probability activation function\n",
    "nn_model.add(tf.keras.layers.Dense(units=1, activation=\"sigmoid\"))"
   ]
  },
  {
   "cell_type": "code",
   "execution_count": 8,
   "metadata": {},
   "outputs": [
    {
     "name": "stdout",
     "output_type": "stream",
     "text": [
      "Model: \"sequential\"\n",
      "_________________________________________________________________\n",
      "Layer (type)                 Output Shape              Param #   \n",
      "=================================================================\n",
      "dense (Dense)                (None, 1)                 3         \n",
      "_________________________________________________________________\n",
      "dense_1 (Dense)              (None, 1)                 2         \n",
      "=================================================================\n",
      "Total params: 5\n",
      "Trainable params: 5\n",
      "Non-trainable params: 0\n",
      "_________________________________________________________________\n"
     ]
    }
   ],
   "source": [
    "# Check the structure of the Sequential model\n",
    "nn_model.summary()"
   ]
  },
  {
   "cell_type": "code",
   "execution_count": 9,
   "metadata": {},
   "outputs": [],
   "source": [
    "# Compile the Sequential model together and customize metrics\n",
    "nn_model.compile(loss=\"binary_crossentropy\", optimizer=\"adam\", metrics=[\"accuracy\"])"
   ]
  },
  {
   "cell_type": "code",
   "execution_count": 10,
   "metadata": {},
   "outputs": [
    {
     "name": "stdout",
     "output_type": "stream",
     "text": [
      "Epoch 1/100\n",
      "24/24 [==============================] - 0s 2ms/step - loss: 0.5312 - accuracy: 0.9800\n",
      "Epoch 2/100\n",
      "24/24 [==============================] - 0s 2ms/step - loss: 0.5161 - accuracy: 1.0000\n",
      "Epoch 3/100\n",
      "24/24 [==============================] - 0s 2ms/step - loss: 0.5013 - accuracy: 1.0000\n",
      "Epoch 4/100\n",
      "24/24 [==============================] - 0s 2ms/step - loss: 0.4866 - accuracy: 1.0000\n",
      "Epoch 5/100\n",
      "24/24 [==============================] - 0s 2ms/step - loss: 0.4721 - accuracy: 1.0000\n",
      "Epoch 6/100\n",
      "24/24 [==============================] - 0s 2ms/step - loss: 0.4579 - accuracy: 1.0000\n",
      "Epoch 7/100\n",
      "24/24 [==============================] - 0s 2ms/step - loss: 0.4440 - accuracy: 1.0000\n",
      "Epoch 8/100\n",
      "24/24 [==============================] - 0s 1ms/step - loss: 0.4305 - accuracy: 1.0000\n",
      "Epoch 9/100\n",
      "24/24 [==============================] - 0s 2ms/step - loss: 0.4174 - accuracy: 1.0000\n",
      "Epoch 10/100\n",
      "24/24 [==============================] - 0s 2ms/step - loss: 0.4047 - accuracy: 1.0000\n",
      "Epoch 11/100\n",
      "24/24 [==============================] - 0s 2ms/step - loss: 0.3926 - accuracy: 1.0000\n",
      "Epoch 12/100\n",
      "24/24 [==============================] - 0s 2ms/step - loss: 0.3808 - accuracy: 1.0000\n",
      "Epoch 13/100\n",
      "24/24 [==============================] - 0s 2ms/step - loss: 0.3695 - accuracy: 1.0000\n",
      "Epoch 14/100\n",
      "24/24 [==============================] - 0s 2ms/step - loss: 0.3587 - accuracy: 1.0000\n",
      "Epoch 15/100\n",
      "24/24 [==============================] - 0s 2ms/step - loss: 0.3484 - accuracy: 1.0000\n",
      "Epoch 16/100\n",
      "24/24 [==============================] - 0s 2ms/step - loss: 0.3384 - accuracy: 1.0000\n",
      "Epoch 17/100\n",
      "24/24 [==============================] - 0s 2ms/step - loss: 0.3289 - accuracy: 1.0000\n",
      "Epoch 18/100\n",
      "24/24 [==============================] - 0s 2ms/step - loss: 0.3198 - accuracy: 1.0000\n",
      "Epoch 19/100\n",
      "24/24 [==============================] - 0s 1ms/step - loss: 0.3111 - accuracy: 1.0000\n",
      "Epoch 20/100\n",
      "24/24 [==============================] - 0s 2ms/step - loss: 0.3027 - accuracy: 1.0000\n",
      "Epoch 21/100\n",
      "24/24 [==============================] - 0s 2ms/step - loss: 0.2947 - accuracy: 1.0000\n",
      "Epoch 22/100\n",
      "24/24 [==============================] - 0s 2ms/step - loss: 0.2869 - accuracy: 1.0000\n",
      "Epoch 23/100\n",
      "24/24 [==============================] - 0s 2ms/step - loss: 0.2796 - accuracy: 1.0000\n",
      "Epoch 24/100\n",
      "24/24 [==============================] - 0s 1ms/step - loss: 0.2725 - accuracy: 1.0000\n",
      "Epoch 25/100\n",
      "24/24 [==============================] - 0s 2ms/step - loss: 0.2657 - accuracy: 1.0000\n",
      "Epoch 26/100\n",
      "24/24 [==============================] - 0s 2ms/step - loss: 0.2591 - accuracy: 1.0000\n",
      "Epoch 27/100\n",
      "24/24 [==============================] - 0s 2ms/step - loss: 0.2528 - accuracy: 1.0000\n",
      "Epoch 28/100\n",
      "24/24 [==============================] - 0s 2ms/step - loss: 0.2468 - accuracy: 1.0000\n",
      "Epoch 29/100\n",
      "24/24 [==============================] - 0s 2ms/step - loss: 0.2410 - accuracy: 1.0000\n",
      "Epoch 30/100\n",
      "24/24 [==============================] - 0s 2ms/step - loss: 0.2353 - accuracy: 1.0000\n",
      "Epoch 31/100\n",
      "24/24 [==============================] - 0s 2ms/step - loss: 0.2299 - accuracy: 1.0000\n",
      "Epoch 32/100\n",
      "24/24 [==============================] - 0s 2ms/step - loss: 0.2247 - accuracy: 1.0000\n",
      "Epoch 33/100\n",
      "24/24 [==============================] - 0s 1ms/step - loss: 0.2197 - accuracy: 1.0000\n",
      "Epoch 34/100\n",
      "24/24 [==============================] - 0s 2ms/step - loss: 0.2148 - accuracy: 1.0000\n",
      "Epoch 35/100\n",
      "24/24 [==============================] - 0s 2ms/step - loss: 0.2101 - accuracy: 1.0000\n",
      "Epoch 36/100\n",
      "24/24 [==============================] - 0s 2ms/step - loss: 0.2056 - accuracy: 1.0000\n",
      "Epoch 37/100\n",
      "24/24 [==============================] - 0s 1ms/step - loss: 0.2012 - accuracy: 1.0000\n",
      "Epoch 38/100\n",
      "24/24 [==============================] - 0s 2ms/step - loss: 0.1969 - accuracy: 1.0000\n",
      "Epoch 39/100\n",
      "24/24 [==============================] - 0s 2ms/step - loss: 0.1928 - accuracy: 1.0000\n",
      "Epoch 40/100\n",
      "24/24 [==============================] - 0s 2ms/step - loss: 0.1888 - accuracy: 1.0000\n",
      "Epoch 41/100\n",
      "24/24 [==============================] - 0s 2ms/step - loss: 0.1849 - accuracy: 1.0000\n",
      "Epoch 42/100\n",
      "24/24 [==============================] - 0s 1ms/step - loss: 0.1811 - accuracy: 1.0000\n",
      "Epoch 43/100\n",
      "24/24 [==============================] - 0s 1ms/step - loss: 0.1775 - accuracy: 1.0000\n",
      "Epoch 44/100\n",
      "24/24 [==============================] - 0s 2ms/step - loss: 0.1740 - accuracy: 1.0000\n",
      "Epoch 45/100\n",
      "24/24 [==============================] - 0s 1ms/step - loss: 0.1705 - accuracy: 1.0000\n",
      "Epoch 46/100\n",
      "24/24 [==============================] - 0s 2ms/step - loss: 0.1672 - accuracy: 1.0000\n",
      "Epoch 47/100\n",
      "24/24 [==============================] - 0s 2ms/step - loss: 0.1640 - accuracy: 1.0000\n",
      "Epoch 48/100\n",
      "24/24 [==============================] - 0s 1ms/step - loss: 0.1608 - accuracy: 1.0000\n",
      "Epoch 49/100\n",
      "24/24 [==============================] - 0s 1ms/step - loss: 0.1578 - accuracy: 1.0000\n",
      "Epoch 50/100\n",
      "24/24 [==============================] - 0s 1ms/step - loss: 0.1548 - accuracy: 1.0000\n",
      "Epoch 51/100\n",
      "24/24 [==============================] - 0s 1ms/step - loss: 0.1519 - accuracy: 1.0000\n",
      "Epoch 52/100\n",
      "24/24 [==============================] - 0s 2ms/step - loss: 0.1491 - accuracy: 1.0000\n",
      "Epoch 53/100\n",
      "24/24 [==============================] - 0s 2ms/step - loss: 0.1463 - accuracy: 1.0000\n",
      "Epoch 54/100\n",
      "24/24 [==============================] - 0s 2ms/step - loss: 0.1436 - accuracy: 1.0000\n",
      "Epoch 55/100\n",
      "24/24 [==============================] - 0s 2ms/step - loss: 0.1410 - accuracy: 1.0000\n",
      "Epoch 56/100\n",
      "24/24 [==============================] - 0s 2ms/step - loss: 0.1385 - accuracy: 1.0000\n",
      "Epoch 57/100\n",
      "24/24 [==============================] - 0s 2ms/step - loss: 0.1360 - accuracy: 1.0000\n",
      "Epoch 58/100\n",
      "24/24 [==============================] - 0s 2ms/step - loss: 0.1335 - accuracy: 1.0000\n",
      "Epoch 59/100\n",
      "24/24 [==============================] - 0s 2ms/step - loss: 0.1312 - accuracy: 1.0000\n",
      "Epoch 60/100\n",
      "24/24 [==============================] - 0s 2ms/step - loss: 0.1289 - accuracy: 1.0000\n",
      "Epoch 61/100\n",
      "24/24 [==============================] - 0s 2ms/step - loss: 0.1266 - accuracy: 1.0000\n",
      "Epoch 62/100\n",
      "24/24 [==============================] - 0s 2ms/step - loss: 0.1245 - accuracy: 1.0000\n",
      "Epoch 63/100\n",
      "24/24 [==============================] - 0s 2ms/step - loss: 0.1223 - accuracy: 1.0000\n",
      "Epoch 64/100\n",
      "24/24 [==============================] - 0s 2ms/step - loss: 0.1202 - accuracy: 1.0000\n",
      "Epoch 65/100\n",
      "24/24 [==============================] - 0s 2ms/step - loss: 0.1182 - accuracy: 1.0000\n",
      "Epoch 66/100\n",
      "24/24 [==============================] - 0s 1ms/step - loss: 0.1162 - accuracy: 1.0000\n",
      "Epoch 67/100\n",
      "24/24 [==============================] - 0s 2ms/step - loss: 0.1143 - accuracy: 1.0000\n",
      "Epoch 68/100\n",
      "24/24 [==============================] - 0s 2ms/step - loss: 0.1124 - accuracy: 1.0000\n",
      "Epoch 69/100\n",
      "24/24 [==============================] - 0s 1ms/step - loss: 0.1105 - accuracy: 1.0000\n",
      "Epoch 70/100\n",
      "24/24 [==============================] - 0s 1ms/step - loss: 0.1087 - accuracy: 1.0000\n",
      "Epoch 71/100\n",
      "24/24 [==============================] - 0s 2ms/step - loss: 0.1069 - accuracy: 1.0000\n",
      "Epoch 72/100\n",
      "24/24 [==============================] - 0s 2ms/step - loss: 0.1052 - accuracy: 1.0000\n",
      "Epoch 73/100\n",
      "24/24 [==============================] - 0s 2ms/step - loss: 0.1035 - accuracy: 1.0000\n",
      "Epoch 74/100\n",
      "24/24 [==============================] - 0s 2ms/step - loss: 0.1019 - accuracy: 1.0000\n",
      "Epoch 75/100\n",
      "24/24 [==============================] - 0s 2ms/step - loss: 0.1002 - accuracy: 1.0000\n",
      "Epoch 76/100\n",
      "24/24 [==============================] - 0s 2ms/step - loss: 0.0986 - accuracy: 1.0000\n",
      "Epoch 77/100\n",
      "24/24 [==============================] - 0s 2ms/step - loss: 0.0971 - accuracy: 1.0000\n",
      "Epoch 78/100\n",
      "24/24 [==============================] - 0s 2ms/step - loss: 0.0956 - accuracy: 1.0000\n",
      "Epoch 79/100\n",
      "24/24 [==============================] - 0s 2ms/step - loss: 0.0941 - accuracy: 1.0000\n",
      "Epoch 80/100\n",
      "24/24 [==============================] - 0s 2ms/step - loss: 0.0926 - accuracy: 1.0000\n",
      "Epoch 81/100\n",
      "24/24 [==============================] - 0s 2ms/step - loss: 0.0911 - accuracy: 1.0000\n",
      "Epoch 82/100\n",
      "24/24 [==============================] - 0s 2ms/step - loss: 0.0898 - accuracy: 1.0000\n",
      "Epoch 83/100\n"
     ]
    },
    {
     "name": "stdout",
     "output_type": "stream",
     "text": [
      "24/24 [==============================] - 0s 2ms/step - loss: 0.0884 - accuracy: 1.0000\n",
      "Epoch 84/100\n",
      "24/24 [==============================] - 0s 2ms/step - loss: 0.0870 - accuracy: 1.0000\n",
      "Epoch 85/100\n",
      "24/24 [==============================] - 0s 2ms/step - loss: 0.0857 - accuracy: 1.0000\n",
      "Epoch 86/100\n",
      "24/24 [==============================] - 0s 2ms/step - loss: 0.0844 - accuracy: 1.0000\n",
      "Epoch 87/100\n",
      "24/24 [==============================] - 0s 2ms/step - loss: 0.0831 - accuracy: 1.0000\n",
      "Epoch 88/100\n",
      "24/24 [==============================] - 0s 2ms/step - loss: 0.0819 - accuracy: 1.0000\n",
      "Epoch 89/100\n",
      "24/24 [==============================] - 0s 2ms/step - loss: 0.0807 - accuracy: 1.0000\n",
      "Epoch 90/100\n",
      "24/24 [==============================] - 0s 2ms/step - loss: 0.0795 - accuracy: 1.0000\n",
      "Epoch 91/100\n",
      "24/24 [==============================] - 0s 1ms/step - loss: 0.0783 - accuracy: 1.0000\n",
      "Epoch 92/100\n",
      "24/24 [==============================] - 0s 2ms/step - loss: 0.0771 - accuracy: 1.0000\n",
      "Epoch 93/100\n",
      "24/24 [==============================] - 0s 2ms/step - loss: 0.0760 - accuracy: 1.0000\n",
      "Epoch 94/100\n",
      "24/24 [==============================] - 0s 2ms/step - loss: 0.0749 - accuracy: 1.0000\n",
      "Epoch 95/100\n",
      "24/24 [==============================] - 0s 2ms/step - loss: 0.0738 - accuracy: 1.0000\n",
      "Epoch 96/100\n",
      "24/24 [==============================] - 0s 2ms/step - loss: 0.0727 - accuracy: 1.0000\n",
      "Epoch 97/100\n",
      "24/24 [==============================] - 0s 2ms/step - loss: 0.0717 - accuracy: 1.0000\n",
      "Epoch 98/100\n",
      "24/24 [==============================] - 0s 2ms/step - loss: 0.0707 - accuracy: 1.0000\n",
      "Epoch 99/100\n",
      "24/24 [==============================] - 0s 2ms/step - loss: 0.0696 - accuracy: 1.0000\n",
      "Epoch 100/100\n",
      "24/24 [==============================] - 0s 2ms/step - loss: 0.0687 - accuracy: 1.0000\n"
     ]
    }
   ],
   "source": [
    "# Fit the model to the training data\n",
    "fit_model = nn_model.fit(X_train_scaled, y_train, epochs=100)"
   ]
  },
  {
   "cell_type": "code",
   "execution_count": 11,
   "metadata": {},
   "outputs": [
    {
     "data": {
      "text/plain": [
       "<matplotlib.axes._subplots.AxesSubplot at 0x1ccd58ffc08>"
      ]
     },
     "execution_count": 11,
     "metadata": {},
     "output_type": "execute_result"
    },
    {
     "data": {
      "image/png": "[encoded data removed]",
      "text/plain": [
       "<Figure size 432x288 with 1 Axes>"
      ]
     },
     "metadata": {
      "needs_background": "light"
     },
     "output_type": "display_data"
    }
   ],
   "source": [
    "# Create a DataFrame containing training history\n",
    "history_df = pd.DataFrame(fit_model.history, index=range(1,len(fit_model.history[\"loss\"])+1))\n",
    "\n",
    "# Plot the loss\n",
    "history_df.plot(y=\"loss\")"
   ]
  },
  {
   "cell_type": "code",
   "execution_count": 12,
   "metadata": {},
   "outputs": [
    {
     "data": {
      "text/plain": [
       "<matplotlib.axes._subplots.AxesSubplot at 0x1ccd5970588>"
      ]
     },
     "execution_count": 12,
     "metadata": {},
     "output_type": "execute_result"
    },
    {
     "data": {
      "image/png": "[encoded data removed]",
      "text/plain": [
       "<Figure size 432x288 with 1 Axes>"
      ]
     },
     "metadata": {
      "needs_background": "light"
     },
     "output_type": "display_data"
    }
   ],
   "source": [
    "# Plot the accuracy\n",
    "history_df.plot(y=\"accuracy\")"
   ]
  },
  {
   "cell_type": "code",
   "execution_count": 13,
   "metadata": {},
   "outputs": [
    {
     "name": "stdout",
     "output_type": "stream",
     "text": [
      "8/8 - 0s - loss: 0.0709 - accuracy: 1.0000\n",
      "Loss: 0.07089544087648392, Accuracy: 1.0\n"
     ]
    }
   ],
   "source": [
    "# Evaluate the model using the test data\n",
    "model_loss, model_accuracy = nn_model.evaluate(X_test_scaled,y_test,verbose=2)\n",
    "print(f\"Loss: {model_loss}, Accuracy: {model_accuracy}\")"
   ]
  },
  {
   "cell_type": "code",
   "execution_count": 14,
   "metadata": {},
   "outputs": [
    {
     "data": {
      "text/plain": [
       "array([[0],\n",
       "       [1],\n",
       "       [0],\n",
       "       [1],\n",
       "       [0],\n",
       "       [0],\n",
       "       [1],\n",
       "       [1],\n",
       "       [1],\n",
       "       [0]])"
      ]
     },
     "execution_count": 14,
     "metadata": {},
     "output_type": "execute_result"
    }
   ],
   "source": [
    "# Predict the classification of a new set of blob data\n",
    "new_X, new_Y = make_blobs(n_samples=10, centers=2, n_features=2, random_state=78)\n",
    "new_X_scaled = X_scaler.transform(new_X)\n",
    "(nn_model.predict(new_X_scaled) > 0.5).astype(\"int32\")"
   ]
  },
  {
   "cell_type": "code",
   "execution_count": 15,
   "metadata": {},
   "outputs": [
    {
     "data": {
      "text/plain": [
       "<matplotlib.axes._subplots.AxesSubplot at 0x1ccd5ac1a08>"
      ]
     },
     "execution_count": 15,
     "metadata": {},
     "output_type": "execute_result"
    },
    {
     "data": {
      "image/png": "[encoded data removed]",
      "text/plain": [
       "<Figure size 432x288 with 2 Axes>"
      ]
     },
     "metadata": {
      "needs_background": "light"
     },
     "output_type": "display_data"
    }
   ],
   "source": [
    "from sklearn.datasets import make_moons\n",
    "\n",
    "# Creating dummy nonlinear data\n",
    "X_moons, y_moons = make_moons(n_samples=1000, noise=0.08, random_state=78)\n",
    "\n",
    "# Transforming y_moons to a vertical vector\n",
    "y_moons = y_moons.reshape(-1, 1)\n",
    "\n",
    "# Creating a DataFrame to plot the nonlinear dummy data\n",
    "df_moons = pd.DataFrame(X_moons, columns=[\"Feature 1\", \"Feature 2\"])\n",
    "df_moons[\"Target\"] = y_moons\n",
    "\n",
    "# Plot the nonlinear dummy data\n",
    "df_moons.plot.scatter(x=\"Feature 1\",y=\"Feature 2\", c=\"Target\",colormap=\"winter\")"
   ]
  },
  {
   "cell_type": "code",
   "execution_count": 16,
   "metadata": {},
   "outputs": [],
   "source": [
    "# Create training and testing sets\n",
    "X_moon_train, X_moon_test, y_moon_train, y_moon_test = train_test_split(\n",
    "    X_moons, y_moons, random_state=78\n",
    ")\n",
    "\n",
    "# Create the scaler instance\n",
    "X_moon_scaler = skl.preprocessing.StandardScaler()\n",
    "\n",
    "# Fit the scaler\n",
    "X_moon_scaler.fit(X_moon_train)\n",
    "\n",
    "# Scale the data\n",
    "X_moon_train_scaled = X_moon_scaler.transform(X_moon_train)\n",
    "X_moon_test_scaled = X_moon_scaler.transform(X_moon_test)"
   ]
  },
  {
   "cell_type": "code",
   "execution_count": 17,
   "metadata": {},
   "outputs": [
    {
     "name": "stdout",
     "output_type": "stream",
     "text": [
      "Epoch 1/100\n",
      "24/24 [==============================] - 0s 2ms/step - loss: 0.9471 - accuracy: 0.5507\n",
      "Epoch 2/100\n",
      "24/24 [==============================] - 0s 3ms/step - loss: 0.8396 - accuracy: 0.5720\n",
      "Epoch 3/100\n",
      "24/24 [==============================] - 0s 3ms/step - loss: 0.7666 - accuracy: 0.5880\n",
      "Epoch 4/100\n",
      "24/24 [==============================] - 0s 3ms/step - loss: 0.7165 - accuracy: 0.6160\n",
      "Epoch 5/100\n",
      "24/24 [==============================] - 0s 3ms/step - loss: 0.6789 - accuracy: 0.6293\n",
      "Epoch 6/100\n",
      "24/24 [==============================] - 0s 3ms/step - loss: 0.6485 - accuracy: 0.6413\n",
      "Epoch 7/100\n",
      "24/24 [==============================] - 0s 3ms/step - loss: 0.6226 - accuracy: 0.6520\n",
      "Epoch 8/100\n",
      "24/24 [==============================] - 0s 3ms/step - loss: 0.5997 - accuracy: 0.6640\n",
      "Epoch 9/100\n",
      "24/24 [==============================] - 0s 3ms/step - loss: 0.5787 - accuracy: 0.6747\n",
      "Epoch 10/100\n",
      "24/24 [==============================] - 0s 3ms/step - loss: 0.5587 - accuracy: 0.6893\n",
      "Epoch 11/100\n",
      "24/24 [==============================] - 0s 3ms/step - loss: 0.5401 - accuracy: 0.7013\n",
      "Epoch 12/100\n",
      "24/24 [==============================] - 0s 3ms/step - loss: 0.5221 - accuracy: 0.7093\n",
      "Epoch 13/100\n",
      "24/24 [==============================] - 0s 3ms/step - loss: 0.5059 - accuracy: 0.7160\n",
      "Epoch 14/100\n",
      "24/24 [==============================] - 0s 2ms/step - loss: 0.4899 - accuracy: 0.7240\n",
      "Epoch 15/100\n",
      "24/24 [==============================] - 0s 2ms/step - loss: 0.4758 - accuracy: 0.7333\n",
      "Epoch 16/100\n",
      "24/24 [==============================] - 0s 3ms/step - loss: 0.4619 - accuracy: 0.7413\n",
      "Epoch 17/100\n",
      "24/24 [==============================] - 0s 3ms/step - loss: 0.4495 - accuracy: 0.7480\n",
      "Epoch 18/100\n",
      "24/24 [==============================] - 0s 3ms/step - loss: 0.4379 - accuracy: 0.7547\n",
      "Epoch 19/100\n",
      "24/24 [==============================] - 0s 3ms/step - loss: 0.4273 - accuracy: 0.7600\n",
      "Epoch 20/100\n",
      "24/24 [==============================] - 0s 3ms/step - loss: 0.4172 - accuracy: 0.7680\n",
      "Epoch 21/100\n",
      "24/24 [==============================] - 0s 3ms/step - loss: 0.4078 - accuracy: 0.7773\n",
      "Epoch 22/100\n",
      "24/24 [==============================] - 0s 2ms/step - loss: 0.3989 - accuracy: 0.7827\n",
      "Epoch 23/100\n",
      "24/24 [==============================] - 0s 3ms/step - loss: 0.3906 - accuracy: 0.7840\n",
      "Epoch 24/100\n",
      "24/24 [==============================] - 0s 3ms/step - loss: 0.3828 - accuracy: 0.7880\n",
      "Epoch 25/100\n",
      "24/24 [==============================] - 0s 3ms/step - loss: 0.3753 - accuracy: 0.7960\n",
      "Epoch 26/100\n",
      "24/24 [==============================] - 0s 3ms/step - loss: 0.3682 - accuracy: 0.7987\n",
      "Epoch 27/100\n",
      "24/24 [==============================] - 0s 3ms/step - loss: 0.3615 - accuracy: 0.7987\n",
      "Epoch 28/100\n",
      "24/24 [==============================] - 0s 3ms/step - loss: 0.3552 - accuracy: 0.8093\n",
      "Epoch 29/100\n",
      "24/24 [==============================] - 0s 3ms/step - loss: 0.3489 - accuracy: 0.8160\n",
      "Epoch 30/100\n",
      "24/24 [==============================] - 0s 3ms/step - loss: 0.3433 - accuracy: 0.8187\n",
      "Epoch 31/100\n",
      "24/24 [==============================] - 0s 3ms/step - loss: 0.3379 - accuracy: 0.8240\n",
      "Epoch 32/100\n",
      "24/24 [==============================] - 0s 2ms/step - loss: 0.3330 - accuracy: 0.8267\n",
      "Epoch 33/100\n",
      "24/24 [==============================] - 0s 3ms/step - loss: 0.3286 - accuracy: 0.8333\n",
      "Epoch 34/100\n",
      "24/24 [==============================] - 0s 3ms/step - loss: 0.3244 - accuracy: 0.8333\n",
      "Epoch 35/100\n",
      "24/24 [==============================] - 0s 3ms/step - loss: 0.3207 - accuracy: 0.8347\n",
      "Epoch 36/100\n",
      "24/24 [==============================] - 0s 3ms/step - loss: 0.3172 - accuracy: 0.8373\n",
      "Epoch 37/100\n",
      "24/24 [==============================] - 0s 2ms/step - loss: 0.3140 - accuracy: 0.8387\n",
      "Epoch 38/100\n",
      "24/24 [==============================] - 0s 3ms/step - loss: 0.3109 - accuracy: 0.8413\n",
      "Epoch 39/100\n",
      "24/24 [==============================] - 0s 3ms/step - loss: 0.3082 - accuracy: 0.8453\n",
      "Epoch 40/100\n",
      "24/24 [==============================] - 0s 3ms/step - loss: 0.3056 - accuracy: 0.8493\n",
      "Epoch 41/100\n",
      "24/24 [==============================] - 0s 3ms/step - loss: 0.3033 - accuracy: 0.8520\n",
      "Epoch 42/100\n",
      "24/24 [==============================] - 0s 3ms/step - loss: 0.3009 - accuracy: 0.8573\n",
      "Epoch 43/100\n",
      "24/24 [==============================] - 0s 3ms/step - loss: 0.2989 - accuracy: 0.8600\n",
      "Epoch 44/100\n",
      "24/24 [==============================] - 0s 3ms/step - loss: 0.2969 - accuracy: 0.8640\n",
      "Epoch 45/100\n",
      "24/24 [==============================] - 0s 3ms/step - loss: 0.2950 - accuracy: 0.8667\n",
      "Epoch 46/100\n",
      "24/24 [==============================] - 0s 2ms/step - loss: 0.2933 - accuracy: 0.8667\n",
      "Epoch 47/100\n",
      "24/24 [==============================] - 0s 3ms/step - loss: 0.2917 - accuracy: 0.8667\n",
      "Epoch 48/100\n",
      "24/24 [==============================] - 0s 3ms/step - loss: 0.2901 - accuracy: 0.8667\n",
      "Epoch 49/100\n",
      "24/24 [==============================] - 0s 3ms/step - loss: 0.2886 - accuracy: 0.8667\n",
      "Epoch 50/100\n",
      "24/24 [==============================] - 0s 3ms/step - loss: 0.2872 - accuracy: 0.8693\n",
      "Epoch 51/100\n",
      "24/24 [==============================] - 0s 2ms/step - loss: 0.2859 - accuracy: 0.8707\n",
      "Epoch 52/100\n",
      "24/24 [==============================] - 0s 3ms/step - loss: 0.2846 - accuracy: 0.8733\n",
      "Epoch 53/100\n",
      "24/24 [==============================] - 0s 2ms/step - loss: 0.2834 - accuracy: 0.8760\n",
      "Epoch 54/100\n",
      "24/24 [==============================] - 0s 3ms/step - loss: 0.2823 - accuracy: 0.8760\n",
      "Epoch 55/100\n",
      "24/24 [==============================] - 0s 3ms/step - loss: 0.2813 - accuracy: 0.8760\n",
      "Epoch 56/100\n",
      "24/24 [==============================] - 0s 3ms/step - loss: 0.2802 - accuracy: 0.8773\n",
      "Epoch 57/100\n",
      "24/24 [==============================] - 0s 3ms/step - loss: 0.2793 - accuracy: 0.8800\n",
      "Epoch 58/100\n",
      "24/24 [==============================] - 0s 3ms/step - loss: 0.2784 - accuracy: 0.8787\n",
      "Epoch 59/100\n",
      "24/24 [==============================] - 0s 3ms/step - loss: 0.2775 - accuracy: 0.8800\n",
      "Epoch 60/100\n",
      "24/24 [==============================] - 0s 3ms/step - loss: 0.2764 - accuracy: 0.8813\n",
      "Epoch 61/100\n",
      "24/24 [==============================] - 0s 3ms/step - loss: 0.2756 - accuracy: 0.8800\n",
      "Epoch 62/100\n",
      "24/24 [==============================] - 0s 3ms/step - loss: 0.2749 - accuracy: 0.8840\n",
      "Epoch 63/100\n",
      "24/24 [==============================] - 0s 3ms/step - loss: 0.2740 - accuracy: 0.8840\n",
      "Epoch 64/100\n",
      "24/24 [==============================] - 0s 3ms/step - loss: 0.2733 - accuracy: 0.8840\n",
      "Epoch 65/100\n",
      "24/24 [==============================] - 0s 3ms/step - loss: 0.2726 - accuracy: 0.8840\n",
      "Epoch 66/100\n",
      "24/24 [==============================] - 0s 2ms/step - loss: 0.2718 - accuracy: 0.8853\n",
      "Epoch 67/100\n",
      "24/24 [==============================] - 0s 2ms/step - loss: 0.2712 - accuracy: 0.8853\n",
      "Epoch 68/100\n",
      "24/24 [==============================] - 0s 2ms/step - loss: 0.2706 - accuracy: 0.8853\n",
      "Epoch 69/100\n",
      "24/24 [==============================] - 0s 3ms/step - loss: 0.2700 - accuracy: 0.8853\n",
      "Epoch 70/100\n",
      "24/24 [==============================] - 0s 2ms/step - loss: 0.2694 - accuracy: 0.8853\n",
      "Epoch 71/100\n",
      "24/24 [==============================] - 0s 2ms/step - loss: 0.2688 - accuracy: 0.8853\n",
      "Epoch 72/100\n",
      "24/24 [==============================] - 0s 2ms/step - loss: 0.2683 - accuracy: 0.8853\n",
      "Epoch 73/100\n",
      "24/24 [==============================] - 0s 3ms/step - loss: 0.2678 - accuracy: 0.8853\n",
      "Epoch 74/100\n",
      "24/24 [==============================] - 0s 2ms/step - loss: 0.2673 - accuracy: 0.8867\n",
      "Epoch 75/100\n",
      "24/24 [==============================] - 0s 3ms/step - loss: 0.2669 - accuracy: 0.8853\n",
      "Epoch 76/100\n",
      "24/24 [==============================] - 0s 3ms/step - loss: 0.2663 - accuracy: 0.8840\n",
      "Epoch 77/100\n",
      "24/24 [==============================] - 0s 3ms/step - loss: 0.2659 - accuracy: 0.8867\n",
      "Epoch 78/100\n",
      "24/24 [==============================] - 0s 3ms/step - loss: 0.2655 - accuracy: 0.8880\n",
      "Epoch 79/100\n",
      "24/24 [==============================] - 0s 3ms/step - loss: 0.2650 - accuracy: 0.8880\n",
      "Epoch 80/100\n",
      "24/24 [==============================] - 0s 3ms/step - loss: 0.2646 - accuracy: 0.8880\n",
      "Epoch 81/100\n",
      "24/24 [==============================] - 0s 3ms/step - loss: 0.2643 - accuracy: 0.8880\n",
      "Epoch 82/100\n",
      "24/24 [==============================] - 0s 3ms/step - loss: 0.2639 - accuracy: 0.8880\n",
      "Epoch 83/100\n"
     ]
    },
    {
     "name": "stdout",
     "output_type": "stream",
     "text": [
      "24/24 [==============================] - 0s 3ms/step - loss: 0.2637 - accuracy: 0.8880\n",
      "Epoch 84/100\n",
      "24/24 [==============================] - 0s 3ms/step - loss: 0.2632 - accuracy: 0.8880\n",
      "Epoch 85/100\n",
      "24/24 [==============================] - 0s 3ms/step - loss: 0.2628 - accuracy: 0.8880\n",
      "Epoch 86/100\n",
      "24/24 [==============================] - 0s 2ms/step - loss: 0.2625 - accuracy: 0.8893\n",
      "Epoch 87/100\n",
      "24/24 [==============================] - 0s 2ms/step - loss: 0.2622 - accuracy: 0.8893\n",
      "Epoch 88/100\n",
      "24/24 [==============================] - 0s 2ms/step - loss: 0.2620 - accuracy: 0.8907\n",
      "Epoch 89/100\n",
      "24/24 [==============================] - 0s 3ms/step - loss: 0.2616 - accuracy: 0.8893\n",
      "Epoch 90/100\n",
      "24/24 [==============================] - 0s 3ms/step - loss: 0.2613 - accuracy: 0.8893\n",
      "Epoch 91/100\n",
      "24/24 [==============================] - 0s 3ms/step - loss: 0.2610 - accuracy: 0.8893\n",
      "Epoch 92/100\n",
      "24/24 [==============================] - 0s 3ms/step - loss: 0.2608 - accuracy: 0.8893\n",
      "Epoch 93/100\n",
      "24/24 [==============================] - 0s 3ms/step - loss: 0.2607 - accuracy: 0.8893\n",
      "Epoch 94/100\n",
      "24/24 [==============================] - 0s 2ms/step - loss: 0.2603 - accuracy: 0.8907\n",
      "Epoch 95/100\n",
      "24/24 [==============================] - 0s 3ms/step - loss: 0.2600 - accuracy: 0.8907\n",
      "Epoch 96/100\n",
      "24/24 [==============================] - 0s 3ms/step - loss: 0.2598 - accuracy: 0.8907\n",
      "Epoch 97/100\n",
      "24/24 [==============================] - 0s 2ms/step - loss: 0.2596 - accuracy: 0.8920\n",
      "Epoch 98/100\n",
      "24/24 [==============================] - 0s 2ms/step - loss: 0.2593 - accuracy: 0.8920\n",
      "Epoch 99/100\n",
      "24/24 [==============================] - 0s 2ms/step - loss: 0.2592 - accuracy: 0.8920\n",
      "Epoch 100/100\n",
      "24/24 [==============================] - 0s 3ms/step - loss: 0.2589 - accuracy: 0.8920\n"
     ]
    }
   ],
   "source": [
    "# Training the model with the nonlinear data\n",
    "model_moon = nn_model.fit(X_moon_train_scaled, y_moon_train, epochs=100, shuffle=True)"
   ]
  },
  {
   "cell_type": "code",
   "execution_count": 18,
   "metadata": {},
   "outputs": [
    {
     "data": {
      "text/plain": [
       "<matplotlib.axes._subplots.AxesSubplot at 0x1ccd5bce6c8>"
      ]
     },
     "execution_count": 18,
     "metadata": {},
     "output_type": "execute_result"
    },
    {
     "data": {
      "image/png": "[encoded data removed]",
      "text/plain": [
       "<Figure size 432x288 with 1 Axes>"
      ]
     },
     "metadata": {
      "needs_background": "light"
     },
     "output_type": "display_data"
    }
   ],
   "source": [
    "# Create a DataFrame containing training history\n",
    "history_df = pd.DataFrame(model_moon.history, index=range(1,len(model_moon.history[\"loss\"])+1))\n",
    "\n",
    "# Plot the loss\n",
    "history_df.plot(y=\"loss\")"
   ]
  },
  {
   "cell_type": "code",
   "execution_count": 19,
   "metadata": {},
   "outputs": [
    {
     "data": {
      "text/plain": [
       "<matplotlib.axes._subplots.AxesSubplot at 0x1ccd5c0f108>"
      ]
     },
     "execution_count": 19,
     "metadata": {},
     "output_type": "execute_result"
    },
    {
     "data": {
      "image/png": "[encoded data removed]",
      "text/plain": [
       "<Figure size 432x288 with 1 Axes>"
      ]
     },
     "metadata": {
      "needs_background": "light"
     },
     "output_type": "display_data"
    }
   ],
   "source": [
    "# Plot the loss\n",
    "history_df.plot(y=\"accuracy\")"
   ]
  },
  {
   "cell_type": "code",
   "execution_count": 20,
   "metadata": {},
   "outputs": [],
   "source": [
    "# Generate our new Sequential model\n",
    "new_model = tf.keras.models.Sequential()"
   ]
  },
  {
   "cell_type": "code",
   "execution_count": 21,
   "metadata": {},
   "outputs": [],
   "source": [
    "# Add the input and hidden layer\n",
    "number_inputs = 2\n",
    "number_hidden_nodes = 6\n",
    "\n",
    "new_model.add(tf.keras.layers.Dense(units=number_hidden_nodes, activation=\"relu\", input_dim=number_inputs))\n",
    "\n",
    "# Add the output layer that uses a probability activation function\n",
    "new_model.add(tf.keras.layers.Dense(units=1, activation=\"sigmoid\"))"
   ]
  },
  {
   "cell_type": "code",
   "execution_count": 22,
   "metadata": {},
   "outputs": [
    {
     "name": "stdout",
     "output_type": "stream",
     "text": [
      "Epoch 1/100\n",
      "24/24 [==============================] - 0s 2ms/step - loss: 0.6189 - accuracy: 0.5453\n",
      "Epoch 2/100\n",
      "24/24 [==============================] - 0s 2ms/step - loss: 0.5928 - accuracy: 0.5773\n",
      "Epoch 3/100\n",
      "24/24 [==============================] - 0s 2ms/step - loss: 0.5691 - accuracy: 0.6120\n",
      "Epoch 4/100\n",
      "24/24 [==============================] - 0s 2ms/step - loss: 0.5473 - accuracy: 0.6627\n",
      "Epoch 5/100\n",
      "24/24 [==============================] - 0s 2ms/step - loss: 0.5267 - accuracy: 0.7093\n",
      "Epoch 6/100\n",
      "24/24 [==============================] - 0s 2ms/step - loss: 0.5072 - accuracy: 0.7467\n",
      "Epoch 7/100\n",
      "24/24 [==============================] - 0s 2ms/step - loss: 0.4886 - accuracy: 0.7733\n",
      "Epoch 8/100\n",
      "24/24 [==============================] - 0s 2ms/step - loss: 0.4713 - accuracy: 0.7947\n",
      "Epoch 9/100\n",
      "24/24 [==============================] - 0s 2ms/step - loss: 0.4550 - accuracy: 0.8027\n",
      "Epoch 10/100\n",
      "24/24 [==============================] - 0s 2ms/step - loss: 0.4398 - accuracy: 0.8067\n",
      "Epoch 11/100\n",
      "24/24 [==============================] - 0s 2ms/step - loss: 0.4255 - accuracy: 0.8120\n",
      "Epoch 12/100\n",
      "24/24 [==============================] - 0s 2ms/step - loss: 0.4123 - accuracy: 0.8173\n",
      "Epoch 13/100\n",
      "24/24 [==============================] - 0s 2ms/step - loss: 0.4002 - accuracy: 0.8213\n",
      "Epoch 14/100\n",
      "24/24 [==============================] - 0s 2ms/step - loss: 0.3887 - accuracy: 0.8253\n",
      "Epoch 15/100\n",
      "24/24 [==============================] - 0s 1ms/step - loss: 0.3783 - accuracy: 0.8280\n",
      "Epoch 16/100\n",
      "24/24 [==============================] - 0s 2ms/step - loss: 0.3686 - accuracy: 0.8333\n",
      "Epoch 17/100\n",
      "24/24 [==============================] - 0s 2ms/step - loss: 0.3596 - accuracy: 0.8373\n",
      "Epoch 18/100\n",
      "24/24 [==============================] - 0s 2ms/step - loss: 0.3511 - accuracy: 0.8400\n",
      "Epoch 19/100\n",
      "24/24 [==============================] - 0s 2ms/step - loss: 0.3432 - accuracy: 0.8480\n",
      "Epoch 20/100\n",
      "24/24 [==============================] - 0s 2ms/step - loss: 0.3356 - accuracy: 0.8493\n",
      "Epoch 21/100\n",
      "24/24 [==============================] - 0s 2ms/step - loss: 0.3284 - accuracy: 0.8520\n",
      "Epoch 22/100\n",
      "24/24 [==============================] - 0s 2ms/step - loss: 0.3213 - accuracy: 0.8573\n",
      "Epoch 23/100\n",
      "24/24 [==============================] - 0s 2ms/step - loss: 0.3147 - accuracy: 0.8600\n",
      "Epoch 24/100\n",
      "24/24 [==============================] - 0s 2ms/step - loss: 0.3083 - accuracy: 0.8600\n",
      "Epoch 25/100\n",
      "24/24 [==============================] - 0s 2ms/step - loss: 0.3019 - accuracy: 0.8667\n",
      "Epoch 26/100\n",
      "24/24 [==============================] - 0s 2ms/step - loss: 0.2959 - accuracy: 0.8680\n",
      "Epoch 27/100\n",
      "24/24 [==============================] - 0s 2ms/step - loss: 0.2899 - accuracy: 0.8693\n",
      "Epoch 28/100\n",
      "24/24 [==============================] - 0s 2ms/step - loss: 0.2843 - accuracy: 0.8693\n",
      "Epoch 29/100\n",
      "24/24 [==============================] - 0s 2ms/step - loss: 0.2790 - accuracy: 0.8733\n",
      "Epoch 30/100\n",
      "24/24 [==============================] - 0s 2ms/step - loss: 0.2741 - accuracy: 0.8760\n",
      "Epoch 31/100\n",
      "24/24 [==============================] - 0s 2ms/step - loss: 0.2694 - accuracy: 0.8840\n",
      "Epoch 32/100\n",
      "24/24 [==============================] - 0s 2ms/step - loss: 0.2652 - accuracy: 0.8853\n",
      "Epoch 33/100\n",
      "24/24 [==============================] - 0s 2ms/step - loss: 0.2613 - accuracy: 0.8880\n",
      "Epoch 34/100\n",
      "24/24 [==============================] - 0s 2ms/step - loss: 0.2576 - accuracy: 0.8907\n",
      "Epoch 35/100\n",
      "24/24 [==============================] - 0s 2ms/step - loss: 0.2544 - accuracy: 0.8907\n",
      "Epoch 36/100\n",
      "24/24 [==============================] - 0s 1ms/step - loss: 0.2514 - accuracy: 0.8893\n",
      "Epoch 37/100\n",
      "24/24 [==============================] - 0s 2ms/step - loss: 0.2487 - accuracy: 0.8907\n",
      "Epoch 38/100\n",
      "24/24 [==============================] - 0s 2ms/step - loss: 0.2462 - accuracy: 0.8920\n",
      "Epoch 39/100\n",
      "24/24 [==============================] - 0s 2ms/step - loss: 0.2438 - accuracy: 0.8920\n",
      "Epoch 40/100\n",
      "24/24 [==============================] - 0s 2ms/step - loss: 0.2417 - accuracy: 0.8920\n",
      "Epoch 41/100\n",
      "24/24 [==============================] - 0s 2ms/step - loss: 0.2398 - accuracy: 0.8933\n",
      "Epoch 42/100\n",
      "24/24 [==============================] - 0s 1ms/step - loss: 0.2381 - accuracy: 0.8947\n",
      "Epoch 43/100\n",
      "24/24 [==============================] - 0s 1ms/step - loss: 0.2363 - accuracy: 0.8947\n",
      "Epoch 44/100\n",
      "24/24 [==============================] - 0s 2ms/step - loss: 0.2347 - accuracy: 0.8947\n",
      "Epoch 45/100\n",
      "24/24 [==============================] - 0s 2ms/step - loss: 0.2333 - accuracy: 0.8947\n",
      "Epoch 46/100\n",
      "24/24 [==============================] - 0s 1ms/step - loss: 0.2318 - accuracy: 0.8947\n",
      "Epoch 47/100\n",
      "24/24 [==============================] - 0s 2ms/step - loss: 0.2305 - accuracy: 0.8947\n",
      "Epoch 48/100\n",
      "24/24 [==============================] - 0s 2ms/step - loss: 0.2290 - accuracy: 0.8960\n",
      "Epoch 49/100\n",
      "24/24 [==============================] - 0s 2ms/step - loss: 0.2278 - accuracy: 0.8960\n",
      "Epoch 50/100\n",
      "24/24 [==============================] - 0s 2ms/step - loss: 0.2266 - accuracy: 0.8960\n",
      "Epoch 51/100\n",
      "24/24 [==============================] - 0s 2ms/step - loss: 0.2254 - accuracy: 0.8960\n",
      "Epoch 52/100\n",
      "24/24 [==============================] - 0s 2ms/step - loss: 0.2244 - accuracy: 0.8960\n",
      "Epoch 53/100\n",
      "24/24 [==============================] - 0s 2ms/step - loss: 0.2231 - accuracy: 0.8973\n",
      "Epoch 54/100\n",
      "24/24 [==============================] - 0s 2ms/step - loss: 0.2220 - accuracy: 0.8973\n",
      "Epoch 55/100\n",
      "24/24 [==============================] - 0s 2ms/step - loss: 0.2209 - accuracy: 0.8987\n",
      "Epoch 56/100\n",
      "24/24 [==============================] - 0s 2ms/step - loss: 0.2198 - accuracy: 0.9000\n",
      "Epoch 57/100\n",
      "24/24 [==============================] - 0s 2ms/step - loss: 0.2187 - accuracy: 0.9000\n",
      "Epoch 58/100\n",
      "24/24 [==============================] - 0s 2ms/step - loss: 0.2176 - accuracy: 0.9013\n",
      "Epoch 59/100\n",
      "24/24 [==============================] - 0s 2ms/step - loss: 0.2165 - accuracy: 0.9040\n",
      "Epoch 60/100\n",
      "24/24 [==============================] - 0s 1ms/step - loss: 0.2154 - accuracy: 0.9040\n",
      "Epoch 61/100\n",
      "24/24 [==============================] - 0s 2ms/step - loss: 0.2144 - accuracy: 0.9053\n",
      "Epoch 62/100\n",
      "24/24 [==============================] - 0s 2ms/step - loss: 0.2131 - accuracy: 0.9053\n",
      "Epoch 63/100\n",
      "24/24 [==============================] - 0s 1ms/step - loss: 0.2120 - accuracy: 0.9053\n",
      "Epoch 64/100\n",
      "24/24 [==============================] - 0s 2ms/step - loss: 0.2108 - accuracy: 0.9053\n",
      "Epoch 65/100\n",
      "24/24 [==============================] - 0s 2ms/step - loss: 0.2096 - accuracy: 0.9053\n",
      "Epoch 66/100\n",
      "24/24 [==============================] - 0s 2ms/step - loss: 0.2085 - accuracy: 0.9053\n",
      "Epoch 67/100\n",
      "24/24 [==============================] - 0s 2ms/step - loss: 0.2072 - accuracy: 0.9053\n",
      "Epoch 68/100\n",
      "24/24 [==============================] - 0s 2ms/step - loss: 0.2061 - accuracy: 0.9080\n",
      "Epoch 69/100\n",
      "24/24 [==============================] - 0s 2ms/step - loss: 0.2048 - accuracy: 0.9080\n",
      "Epoch 70/100\n",
      "24/24 [==============================] - 0s 2ms/step - loss: 0.2037 - accuracy: 0.9080\n",
      "Epoch 71/100\n",
      "24/24 [==============================] - 0s 2ms/step - loss: 0.2025 - accuracy: 0.9080\n",
      "Epoch 72/100\n",
      "24/24 [==============================] - 0s 2ms/step - loss: 0.2011 - accuracy: 0.9093\n",
      "Epoch 73/100\n",
      "24/24 [==============================] - 0s 2ms/step - loss: 0.2000 - accuracy: 0.9107\n",
      "Epoch 74/100\n",
      "24/24 [==============================] - 0s 2ms/step - loss: 0.1986 - accuracy: 0.9107\n",
      "Epoch 75/100\n",
      "24/24 [==============================] - 0s 2ms/step - loss: 0.1973 - accuracy: 0.9107\n",
      "Epoch 76/100\n",
      "24/24 [==============================] - 0s 2ms/step - loss: 0.1959 - accuracy: 0.9107\n",
      "Epoch 77/100\n",
      "24/24 [==============================] - 0s 2ms/step - loss: 0.1946 - accuracy: 0.9120\n",
      "Epoch 78/100\n",
      "24/24 [==============================] - 0s 2ms/step - loss: 0.1933 - accuracy: 0.9120\n",
      "Epoch 79/100\n",
      "24/24 [==============================] - 0s 2ms/step - loss: 0.1920 - accuracy: 0.9120\n",
      "Epoch 80/100\n",
      "24/24 [==============================] - 0s 2ms/step - loss: 0.1906 - accuracy: 0.9147\n",
      "Epoch 81/100\n",
      "24/24 [==============================] - 0s 2ms/step - loss: 0.1892 - accuracy: 0.9147\n",
      "Epoch 82/100\n",
      "24/24 [==============================] - 0s 2ms/step - loss: 0.1878 - accuracy: 0.9147\n",
      "Epoch 83/100\n"
     ]
    },
    {
     "name": "stdout",
     "output_type": "stream",
     "text": [
      "24/24 [==============================] - 0s 1ms/step - loss: 0.1866 - accuracy: 0.9133\n",
      "Epoch 84/100\n",
      "24/24 [==============================] - 0s 2ms/step - loss: 0.1850 - accuracy: 0.9147\n",
      "Epoch 85/100\n",
      "24/24 [==============================] - 0s 2ms/step - loss: 0.1836 - accuracy: 0.9147\n",
      "Epoch 86/100\n",
      "24/24 [==============================] - 0s 2ms/step - loss: 0.1822 - accuracy: 0.9173\n",
      "Epoch 87/100\n",
      "24/24 [==============================] - 0s 2ms/step - loss: 0.1810 - accuracy: 0.9173\n",
      "Epoch 88/100\n",
      "24/24 [==============================] - 0s 2ms/step - loss: 0.1795 - accuracy: 0.9187\n",
      "Epoch 89/100\n",
      "24/24 [==============================] - 0s 2ms/step - loss: 0.1778 - accuracy: 0.9213\n",
      "Epoch 90/100\n",
      "24/24 [==============================] - 0s 2ms/step - loss: 0.1764 - accuracy: 0.9227\n",
      "Epoch 91/100\n",
      "24/24 [==============================] - 0s 2ms/step - loss: 0.1750 - accuracy: 0.9227\n",
      "Epoch 92/100\n",
      "24/24 [==============================] - 0s 2ms/step - loss: 0.1735 - accuracy: 0.9227\n",
      "Epoch 93/100\n",
      "24/24 [==============================] - 0s 2ms/step - loss: 0.1720 - accuracy: 0.9227\n",
      "Epoch 94/100\n",
      "24/24 [==============================] - 0s 2ms/step - loss: 0.1706 - accuracy: 0.9227\n",
      "Epoch 95/100\n",
      "24/24 [==============================] - 0s 1ms/step - loss: 0.1691 - accuracy: 0.9227\n",
      "Epoch 96/100\n",
      "24/24 [==============================] - 0s 2ms/step - loss: 0.1676 - accuracy: 0.9227\n",
      "Epoch 97/100\n",
      "24/24 [==============================] - 0s 1ms/step - loss: 0.1661 - accuracy: 0.9227\n",
      "Epoch 98/100\n",
      "24/24 [==============================] - 0s 2ms/step - loss: 0.1647 - accuracy: 0.9227\n",
      "Epoch 99/100\n",
      "24/24 [==============================] - 0s 2ms/step - loss: 0.1632 - accuracy: 0.9227\n",
      "Epoch 100/100\n",
      "24/24 [==============================] - 0s 2ms/step - loss: 0.1618 - accuracy: 0.9240\n"
     ]
    }
   ],
   "source": [
    "# Compile the Sequential model together and customize metrics\n",
    "new_model.compile(loss=\"binary_crossentropy\", optimizer=\"adam\", metrics=[\"accuracy\"])\n",
    "\n",
    "# Fit the model to the training data\n",
    "new_fit_model = new_model.fit(X_moon_train_scaled, y_moon_train, epochs=100, shuffle=True)"
   ]
  },
  {
   "cell_type": "code",
   "execution_count": null,
   "metadata": {},
   "outputs": [],
   "source": []
  }
 ],
 "metadata": {
  "kernelspec": {
   "display_name": "Python 3",
   "language": "python",
   "name": "python3"
  },
  "language_info": {
   "codemirror_mode": {
    "name": "ipython",
    "version": 3
   },
   "file_extension": ".py",
   "mimetype": "text/x-python",
   "name": "python",
   "nbconvert_exporter": "python",
   "pygments_lexer": "ipython3",
   "version": "3.7.7"
  }
 },
 "nbformat": 4,
 "nbformat_minor": 4
}
